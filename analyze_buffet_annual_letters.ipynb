{
 "cells": [
  {
   "cell_type": "code",
   "execution_count": 2,
   "metadata": {},
   "outputs": [],
   "source": [
    "import os\n",
    "import pandas as pd"
   ]
  },
  {
   "cell_type": "code",
   "execution_count": 47,
   "metadata": {},
   "outputs": [],
   "source": [
    "def collect_txt(directory = None):\n",
    "    letters = {}\n",
    "    assert os.path.isdir(directory)\n",
    "    for curr_path, directories, files in os.walk(directory):\n",
    "        for file in files:\n",
    "            if file.endswith('txt'):\n",
    "                \n",
    "                with open(os.path.join(os.getcwd(), directory, \n",
    "                                       curr_path[-4:], file),\n",
    "                          'r', encoding='ISO-8859-1') as f:\n",
    "                    letters[curr_path[-4:]] = f.read()\n",
    "\n",
    "    return letters"
   ]
  },
  {
   "cell_type": "code",
   "execution_count": 48,
   "metadata": {},
   "outputs": [],
   "source": [
    "letters = collect_txt('letters')"
   ]
  }
 ],
 "metadata": {
  "kernelspec": {
   "display_name": ".venv",
   "language": "python",
   "name": "python3"
  },
  "language_info": {
   "codemirror_mode": {
    "name": "ipython",
    "version": 3
   },
   "file_extension": ".py",
   "mimetype": "text/x-python",
   "name": "python",
   "nbconvert_exporter": "python",
   "pygments_lexer": "ipython3",
   "version": "3.11.1"
  },
  "orig_nbformat": 4
 },
 "nbformat": 4,
 "nbformat_minor": 2
}
